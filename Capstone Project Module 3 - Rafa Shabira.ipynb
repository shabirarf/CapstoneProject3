{
 "cells": [
  {
   "cell_type": "markdown",
   "metadata": {},
   "source": [
    "##### Capstone Project Module 3"
   ]
  },
  {
   "cell_type": "markdown",
   "metadata": {},
   "source": [
    "## **Daegu Apartment**"
   ]
  },
  {
   "cell_type": "markdown",
   "metadata": {},
   "source": [
    "#### Contents\n",
    "\n",
    "1. Business Problem Understanding\n",
    "2. Data Understanding\n",
    "3. Data Preprocessing\n",
    "4. Modeling\n",
    "5. Conclusion\n",
    "6. Recommendation\n",
    "\n",
    "****"
   ]
  },
  {
   "cell_type": "markdown",
   "metadata": {},
   "source": [
    "## Business Problem Understanding"
   ]
  },
  {
   "cell_type": "markdown",
   "metadata": {},
   "source": [
    "**Context**\n",
    "\n",
    "Sebagai pusat industri tekstil nasional dan rumah bagi peninggalan sejarah modern Korea, Kota Daegu menawarkan perpaduan unik antara tradisi dan modernitas, serta keindahan alam yang memukau. Keberadaan pusat perbelanjaan yang ramai dan pemandangan alam yang indah, terutama saat musim gugur dan musim semi, menambah daya tarik kota Daegu. Meskipun populasi Daegu cenderung homogen dengan sedikit imigran, Daegu merupakan kota yang cukup ramah untuk ditinggali ekspatriat dan imigran lainnya berkat beragamnya restoran dan bar di Daegu yang cenderung menggabungkan pengaruh dari dalam dan luar negeri.\n",
    "\n",
    "Pertumbuhan penduduk Kota Daegu yang pesat telah meningkatkan permintaan akan hunian, terutama apartemen. Preferensi penyewa yang semakin beragam, menuntut para pengembang dan pemilik properti untuk terus berinovasi dalam menyediakan fasilitas yang lengkap dan modern. Lokasi strategis, seperti di sekitar pusat bisnis atau kawasan industri, menjadi daya tarik utama bagi para penyewa. Persaingan yang ketat di pasar properti Daegu telah mendorong munculnya berbagai proyek pembangunan baru, sehingga pasokan apartemen semakin melimpah. Dalam konteks ini, pemilik apartemen dituntut untuk tidak hanya sekadar menyediakan tempat tinggal, tetapi juga menciptakan lingkungan hidup yang nyaman dan memenuhi kebutuhan gaya hidup modern. Maka dari itu pemilik apartemen harus memahami faktor apa saja yang mempengaruhi harga penyewaan agar mendapatkan profit maksimal serta mengetahui harga pasaran dengan fasilitas yang dimiliki."
   ]
  },
  {
   "cell_type": "markdown",
   "metadata": {},
   "source": [
    "**Problem Statement**\n",
    "\n",
    "Agar dapat menetapkan harga jual apartemen yang kompetitif tetapi tetap mengoptimalisasikan keuntungan, pemilik properti di Daegu perlu mengembangkan model bisnis yang efektif. Model bisnis ini harus mampu memprediksi harga jual dengan mempertimbangkan berbagai faktor, seperti fasilitas yang dimiliki apartemen, keberadaan fasilitas umum di sekitar, serta fluktuasi permintaan pasar. Dengan demikian, harga jual yang ditetapkan dapat disesuaikan dengan kondisi pasar yang terus berubah."
   ]
  },
  {
   "cell_type": "markdown",
   "metadata": {},
   "source": [
    "**Goals**\n",
    "\n",
    "Berdasarkan permasalahan tersebut pemilik apartemen dapat menentukan harga jual yang optimal, sehingga dapat memaksimalkan profit bagi pemilik apartemen. Pemilik juga dapat menyesuaikan tipe apartemen yang akan dibangun di masa depan berdasarkan prediksi permintaan pasar dan harga jual yang optimal. Dengan model bisnis yang efektif berdasarkan prediksi harga jual yang akurat, pemilik apartemen dapat meningkatkan revenue dan daya saing di pasar properti."
   ]
  },
  {
   "cell_type": "markdown",
   "metadata": {},
   "source": [
    "**Analytics Approach**\n",
    "\n",
    "Berdasarkan permasalahan tersebut, pemilik apartemen di Daegu perlu memiliki 'tool' yang tepat untuk menentukan harga jual yang optimal untuk setiap apartemen yang baru akan dijual. Dengan adanya perbedaan fitur pada setiap unit apartemen, seperti jumlah kamar, fasilitas apartemen yang tersedia serta fasilitas umum di sekitar apartemen, alat prediksi ini dapat memberikan estimasi harga yang lebih akurat. Hal ini akan membantu pemilik untuk mendapatkan harga jual yang kompetitif dengan tetap mengoptimalisasikan keuntungan."
   ]
  },
  {
   "cell_type": "markdown",
   "metadata": {},
   "source": [
    "**Metrics Evaluation**\n",
    "\n",
    "Evaluation metrics yang akan digunakan adalah R-Squared, MAE, MSE, RMSE, dan MAPE. R-squared memberikan gambaran seberapa baik model menjelaskan variabilitas data. MAE adalah rataan nilai absolut error antara nilai prediksi dan nilai aktual. MSE adalah rataan dari kuadrat error antara nilai prediksi dan nilai aktual. RMSE adalah akar kuadrat dari MSE yang memberikan ukuran kesalahan dalam satuan yang sama dengan variabel target. MAPE untuk mengukur kesalahan relatif antara nilai prediksi dan nilai aktual. Semakin kecil nilai Evaluation Metrics maka model semakin akurat dalam memprediksi harga sewa sesuai dengan limitasi fitur yang digunakan. "
   ]
  },
  {
   "cell_type": "markdown",
   "metadata": {},
   "source": [
    "## Data Understanding"
   ]
  },
  {
   "cell_type": "markdown",
   "metadata": {},
   "source": [
    "- Data set merupakan data listing Apartemen di Daegu, Korea Selatan\n",
    "- Setiap baris mempresentasikan informasi terkait unit apartemen tersebut beserta harganya\n",
    "\n",
    "##### **Attributes Information**\n",
    "| **Attribute** | **Data Type** | **Description** |\n",
    "| --- | --- | --- |\n",
    "| HallwayType | Object | Apartment type |\n",
    "| TimeToSubway | Object | Time needed to the nearest subway station |\n",
    "| SubwayStation | Object | The name of the nearest subway station |\n",
    "| N_FacilitiesNearBy(ETC) | Integer | The number of facilities nearby |\n",
    "| N_FacilitiesNearBy(PublicOffice) | Integer | The number of public office facilities nearby |\n",
    "| N_SchoolNearBy(University) | Integer | The number of universities nearby |\n",
    "| N_Parkinglot(Basement) | Integer | The number of the parking lot |\n",
    "| YearBuilt | Integer | The year the apartment was built |\n",
    "| N_FacilitiesInApt | Integer | Number of facilities in the apartment |\n",
    "| Size(sqft): | Integer | The apartment size (in square feet) |\n",
    "| SalePrice | Integer | The apartment size (in square feet) |\n"
   ]
  },
  {
   "cell_type": "code",
   "execution_count": 193,
   "metadata": {},
   "outputs": [],
   "source": [
    "## import library yang dibutuhkan\n",
    "import numpy as np\n",
    "import pandas as pd\n",
    "import sklearn\n",
    "import seaborn as sns\n",
    "import matplotlib.pyplot as plt\n",
    "from sklearn.model_selection import train_test_split, cross_val_score, GridSearchCV\n",
    "from sklearn.linear_model import LinearRegression, Ridge, Lasso, ElasticNet\n",
    "from sklearn import linear_model\n",
    "from sklearn.metrics import mean_absolute_error, mean_squared_error, r2_score\n",
    "from sklearn.preprocessing import PolynomialFeatures, StandardScaler\n",
    "from sklearn.pipeline import make_pipeline, Pipeline\n",
    "from sklearn.ensemble import RandomForestRegressor, GradientBoostingRegressor\n",
    "from sklearn.tree import DecisionTreeRegressor\n",
    "from sklearn.neighbors import KNeighborsRegressor\n",
    "import statsmodels.api as sm\n",
    "from sklearn.svm import SVR\n",
    "import warnings\n",
    "warnings.filterwarnings('ignore')"
   ]
  },
  {
   "cell_type": "code",
   "execution_count": 195,
   "metadata": {},
   "outputs": [
    {
     "data": {
      "text/html": [
       "<div>\n",
       "<style scoped>\n",
       "    .dataframe tbody tr th:only-of-type {\n",
       "        vertical-align: middle;\n",
       "    }\n",
       "\n",
       "    .dataframe tbody tr th {\n",
       "        vertical-align: top;\n",
       "    }\n",
       "\n",
       "    .dataframe thead th {\n",
       "        text-align: right;\n",
       "    }\n",
       "</style>\n",
       "<table border=\"1\" class=\"dataframe\">\n",
       "  <thead>\n",
       "    <tr style=\"text-align: right;\">\n",
       "      <th></th>\n",
       "      <th>HallwayType</th>\n",
       "      <th>TimeToSubway</th>\n",
       "      <th>SubwayStation</th>\n",
       "      <th>N_FacilitiesNearBy(ETC)</th>\n",
       "      <th>N_FacilitiesNearBy(PublicOffice)</th>\n",
       "      <th>N_SchoolNearBy(University)</th>\n",
       "      <th>N_Parkinglot(Basement)</th>\n",
       "      <th>YearBuilt</th>\n",
       "      <th>N_FacilitiesInApt</th>\n",
       "      <th>Size(sqf)</th>\n",
       "      <th>SalePrice</th>\n",
       "    </tr>\n",
       "  </thead>\n",
       "  <tbody>\n",
       "    <tr>\n",
       "      <th>0</th>\n",
       "      <td>terraced</td>\n",
       "      <td>0-5min</td>\n",
       "      <td>Kyungbuk_uni_hospital</td>\n",
       "      <td>0</td>\n",
       "      <td>3</td>\n",
       "      <td>2</td>\n",
       "      <td>1270</td>\n",
       "      <td>2007</td>\n",
       "      <td>10</td>\n",
       "      <td>1387</td>\n",
       "      <td>346017</td>\n",
       "    </tr>\n",
       "    <tr>\n",
       "      <th>1</th>\n",
       "      <td>terraced</td>\n",
       "      <td>10min~15min</td>\n",
       "      <td>Kyungbuk_uni_hospital</td>\n",
       "      <td>1</td>\n",
       "      <td>5</td>\n",
       "      <td>1</td>\n",
       "      <td>0</td>\n",
       "      <td>1986</td>\n",
       "      <td>4</td>\n",
       "      <td>914</td>\n",
       "      <td>150442</td>\n",
       "    </tr>\n",
       "    <tr>\n",
       "      <th>2</th>\n",
       "      <td>mixed</td>\n",
       "      <td>15min~20min</td>\n",
       "      <td>Chil-sung-market</td>\n",
       "      <td>1</td>\n",
       "      <td>7</td>\n",
       "      <td>3</td>\n",
       "      <td>56</td>\n",
       "      <td>1997</td>\n",
       "      <td>5</td>\n",
       "      <td>558</td>\n",
       "      <td>61946</td>\n",
       "    </tr>\n",
       "    <tr>\n",
       "      <th>3</th>\n",
       "      <td>mixed</td>\n",
       "      <td>5min~10min</td>\n",
       "      <td>Bangoge</td>\n",
       "      <td>5</td>\n",
       "      <td>5</td>\n",
       "      <td>4</td>\n",
       "      <td>798</td>\n",
       "      <td>2005</td>\n",
       "      <td>7</td>\n",
       "      <td>914</td>\n",
       "      <td>165486</td>\n",
       "    </tr>\n",
       "    <tr>\n",
       "      <th>4</th>\n",
       "      <td>terraced</td>\n",
       "      <td>0-5min</td>\n",
       "      <td>Sin-nam</td>\n",
       "      <td>0</td>\n",
       "      <td>1</td>\n",
       "      <td>2</td>\n",
       "      <td>536</td>\n",
       "      <td>2006</td>\n",
       "      <td>5</td>\n",
       "      <td>1743</td>\n",
       "      <td>311504</td>\n",
       "    </tr>\n",
       "  </tbody>\n",
       "</table>\n",
       "</div>"
      ],
      "text/plain": [
       "  HallwayType TimeToSubway          SubwayStation  N_FacilitiesNearBy(ETC)  \\\n",
       "0    terraced       0-5min  Kyungbuk_uni_hospital                        0   \n",
       "1    terraced  10min~15min  Kyungbuk_uni_hospital                        1   \n",
       "2       mixed  15min~20min       Chil-sung-market                        1   \n",
       "3       mixed   5min~10min                Bangoge                        5   \n",
       "4    terraced       0-5min                Sin-nam                        0   \n",
       "\n",
       "   N_FacilitiesNearBy(PublicOffice)  N_SchoolNearBy(University)  \\\n",
       "0                                 3                           2   \n",
       "1                                 5                           1   \n",
       "2                                 7                           3   \n",
       "3                                 5                           4   \n",
       "4                                 1                           2   \n",
       "\n",
       "   N_Parkinglot(Basement)  YearBuilt  N_FacilitiesInApt  Size(sqf)  SalePrice  \n",
       "0                    1270       2007                 10       1387     346017  \n",
       "1                       0       1986                  4        914     150442  \n",
       "2                      56       1997                  5        558      61946  \n",
       "3                     798       2005                  7        914     165486  \n",
       "4                     536       2006                  5       1743     311504  "
      ]
     },
     "execution_count": 195,
     "metadata": {},
     "output_type": "execute_result"
    }
   ],
   "source": [
    "df = pd.read_csv('data_daegu_apartment.csv')\n",
    "df.head()"
   ]
  },
  {
   "cell_type": "markdown",
   "metadata": {},
   "source": [
    "#### **Exploratory Data Analysis**"
   ]
  },
  {
   "cell_type": "code",
   "execution_count": 196,
   "metadata": {},
   "outputs": [
    {
     "name": "stdout",
     "output_type": "stream",
     "text": [
      "<class 'pandas.core.frame.DataFrame'>\n",
      "RangeIndex: 4123 entries, 0 to 4122\n",
      "Data columns (total 11 columns):\n",
      " #   Column                            Non-Null Count  Dtype \n",
      "---  ------                            --------------  ----- \n",
      " 0   HallwayType                       4123 non-null   object\n",
      " 1   TimeToSubway                      4123 non-null   object\n",
      " 2   SubwayStation                     4123 non-null   object\n",
      " 3   N_FacilitiesNearBy(ETC)           4123 non-null   int64 \n",
      " 4   N_FacilitiesNearBy(PublicOffice)  4123 non-null   int64 \n",
      " 5   N_SchoolNearBy(University)        4123 non-null   int64 \n",
      " 6   N_Parkinglot(Basement)            4123 non-null   int64 \n",
      " 7   YearBuilt                         4123 non-null   int64 \n",
      " 8   N_FacilitiesInApt                 4123 non-null   int64 \n",
      " 9   Size(sqf)                         4123 non-null   int64 \n",
      " 10  SalePrice                         4123 non-null   int64 \n",
      "dtypes: int64(8), object(3)\n",
      "memory usage: 354.4+ KB\n"
     ]
    }
   ],
   "source": [
    "df.info()"
   ]
  },
  {
   "cell_type": "code",
   "execution_count": 197,
   "metadata": {},
   "outputs": [
    {
     "data": {
      "text/plain": [
       "array([2007, 1986, 1997, 2005, 2006, 2009, 2014, 1993, 2013, 2008, 2015,\n",
       "       1978, 1985, 1992, 2003, 1980], dtype=int64)"
      ]
     },
     "execution_count": 197,
     "metadata": {},
     "output_type": "execute_result"
    }
   ],
   "source": [
    "df[\"YearBuilt\"].unique()"
   ]
  },
  {
   "cell_type": "code",
   "execution_count": 198,
   "metadata": {},
   "outputs": [
    {
     "data": {
      "text/plain": [
       "HallwayType                         0\n",
       "TimeToSubway                        0\n",
       "SubwayStation                       0\n",
       "N_FacilitiesNearBy(ETC)             0\n",
       "N_FacilitiesNearBy(PublicOffice)    0\n",
       "N_SchoolNearBy(University)          0\n",
       "N_Parkinglot(Basement)              0\n",
       "YearBuilt                           0\n",
       "N_FacilitiesInApt                   0\n",
       "Size(sqf)                           0\n",
       "SalePrice                           0\n",
       "dtype: int64"
      ]
     },
     "execution_count": 198,
     "metadata": {},
     "output_type": "execute_result"
    }
   ],
   "source": [
    "df.isnull().sum()"
   ]
  },
  {
   "cell_type": "markdown",
   "metadata": {},
   "source": [
    "Dataset ini memiliki 11 kolom dengan 4123 baris tanpa adanya missing value."
   ]
  },
  {
   "cell_type": "code",
   "execution_count": 199,
   "metadata": {},
   "outputs": [
    {
     "name": "stdout",
     "output_type": "stream",
     "text": [
      "      NearBy_Facilities NearBy_PublicOffice NearBy_University NearBy_ParkingBasement YearBuilt InApt_Facilities Size(sqf) SalePrice\n",
      "count              4123                4123              4123                   4123      4123             4123      4123      4123\n",
      "mean                  2                   4                 3                    569      2003                6       955    221768\n",
      "std                   2                   2                 1                    410         9                2       384    106740\n",
      "min                   0                   0                 0                      0      1978                1       135     32743\n",
      "25%                   0                   3                 2                    184      1993                4       644    144752\n",
      "50%                   1                   5                 2                    536      2006                5       910    209734\n",
      "75%                   5                   5                 4                    798      2008                7      1149    291150\n",
      "max                   5                   7                 5                   1321      2015               10      2337    585840\n"
     ]
    }
   ],
   "source": [
    "desc_result = df.describe().apply(lambda s: s.apply(lambda x: format(x, '.0f')))\n",
    "desc_result.rename(columns={\n",
    "    'N_FacilitiesNearBy(ETC)' : 'NearBy_Facilities',\n",
    "    'N_FacilitiesNearBy(PublicOffice)' : 'NearBy_PublicOffice',\n",
    "    'N_SchoolNearBy(University)' : 'NearBy_University',\n",
    "    'N_Parkinglot(Basement)' : 'NearBy_ParkingBasement',\n",
    "    'N_FacilitiesInApt' : 'InApt_Facilities',    \n",
    "}, inplace=True)\n",
    "\n",
    "print(desc_result.to_string(header=True, justify='right'))"
   ]
  },
  {
   "cell_type": "code",
   "execution_count": 200,
   "metadata": {},
   "outputs": [
    {
     "data": {
      "text/html": [
       "<div>\n",
       "<style scoped>\n",
       "    .dataframe tbody tr th:only-of-type {\n",
       "        vertical-align: middle;\n",
       "    }\n",
       "\n",
       "    .dataframe tbody tr th {\n",
       "        vertical-align: top;\n",
       "    }\n",
       "\n",
       "    .dataframe thead th {\n",
       "        text-align: right;\n",
       "    }\n",
       "</style>\n",
       "<table border=\"1\" class=\"dataframe\">\n",
       "  <thead>\n",
       "    <tr style=\"text-align: right;\">\n",
       "      <th></th>\n",
       "      <th>HallwayType</th>\n",
       "      <th>TimeToSubway</th>\n",
       "      <th>SubwayStation</th>\n",
       "    </tr>\n",
       "  </thead>\n",
       "  <tbody>\n",
       "    <tr>\n",
       "      <th>count</th>\n",
       "      <td>4123</td>\n",
       "      <td>4123</td>\n",
       "      <td>4123</td>\n",
       "    </tr>\n",
       "    <tr>\n",
       "      <th>unique</th>\n",
       "      <td>3</td>\n",
       "      <td>5</td>\n",
       "      <td>8</td>\n",
       "    </tr>\n",
       "    <tr>\n",
       "      <th>top</th>\n",
       "      <td>terraced</td>\n",
       "      <td>0-5min</td>\n",
       "      <td>Kyungbuk_uni_hospital</td>\n",
       "    </tr>\n",
       "    <tr>\n",
       "      <th>freq</th>\n",
       "      <td>2528</td>\n",
       "      <td>1953</td>\n",
       "      <td>1152</td>\n",
       "    </tr>\n",
       "  </tbody>\n",
       "</table>\n",
       "</div>"
      ],
      "text/plain": [
       "       HallwayType TimeToSubway          SubwayStation\n",
       "count         4123         4123                   4123\n",
       "unique           3            5                      8\n",
       "top       terraced       0-5min  Kyungbuk_uni_hospital\n",
       "freq          2528         1953                   1152"
      ]
     },
     "execution_count": 200,
     "metadata": {},
     "output_type": "execute_result"
    }
   ],
   "source": [
    "df.select_dtypes(include='object').describe()"
   ]
  },
  {
   "cell_type": "markdown",
   "metadata": {},
   "source": [
    "Dari hasil di atas bisa disimpulkan bahwa Apartemen di kota Daegu umumnya memiliki jumlah fasilitas yang tidak terlalu banyak, dan cenderung memiliki ukuran yang relatif kecil dengan harga yang cukup variatif. Apartemen yang paling diminati adalah apartemen dengan tipe hallway Terraced dan apartemen yang berjarak dekat dengan stasiun subway."
   ]
  },
  {
   "cell_type": "markdown",
   "metadata": {},
   "source": [
    "**Distribution of Daegu Apartment Price**"
   ]
  },
  {
   "cell_type": "code",
   "execution_count": 201,
   "metadata": {},
   "outputs": [
    {
     "data": {
      "image/png": "[encoded data removed]",
      "text/plain": [
       "<Figure size 504x360 with 1 Axes>"
      ]
     },
     "metadata": {
      "needs_background": "light"
     },
     "output_type": "display_data"
    }
   ],
   "source": [
    "plt.figure(figsize=(7, 5))\n",
    "sns.distplot(df['SalePrice'], bins=50)\n",
    "plt.title('\\nDistribusi Harga Apartemen Kota Daegu\\n\\n', size=13, weight='bold')\n",
    "for spine in ['top', 'right']:\n",
    "    plt.gca().spines[spine].set_visible(False)\n",
    "\n",
    "plt.show()"
   ]
  },
  {
   "cell_type": "markdown",
   "metadata": {},
   "source": [
    "Berdasarkan grafik di atas dengan bentuk kurva yang miring ke kanan, dapat diambil kesimpulan bahwa sebagian besar apartemen memiliki harga yang relatif rendah yaitu di angka 200.000 KRW, dan sebagian kecil apartemen memiliki harga sangat tinggi di angka 500.000 - 600.000 KRW. Meskipun tidak terlihat jelas, kemungkinan ada beberapa outliers yang terletak di ujung kanan kurva."
   ]
  },
  {
   "cell_type": "markdown",
   "metadata": {},
   "source": [
    "**Size of property related to price**"
   ]
  },
  {
   "cell_type": "code",
   "execution_count": 202,
   "metadata": {},
   "outputs": [
    {
     "data": {
      "image/png": "[encoded data removed]",
      "text/plain": [
       "<Figure size 432x288 with 1 Axes>"
      ]
     },
     "metadata": {
      "needs_background": "light"
     },
     "output_type": "display_data"
    }
   ],
   "source": [
    "# Scatterplot dengan garis tren\n",
    "sns.scatterplot(x='Size(sqf)', y='SalePrice', data=df)\n",
    "sns.regplot(x='Size(sqf)', y='SalePrice', data=df, scatter=False, color='red')  # Tambahkan garis tren merah\n",
    "\n",
    "plt.title('\\nKorelasi Ukuran dan Harga\\n Apartemen di Daegu\\n\\n', size=12, weight='bold')\n",
    "for spine in ['top', 'right']:\n",
    "    plt.gca().spines[spine].set_visible(False)\n",
    "\n",
    "# Tampilkan plot\n",
    "plt.show()"
   ]
  },
  {
   "cell_type": "markdown",
   "metadata": {},
   "source": [
    "Berdasarkan grafik di atas bisa dilihat adanya tren positif antara harga apartemen dengan ukurannya, yang artinya semakin besar ukuran apartemen maka akan semakin tinggi juga harga jualnya. Meskipun begitu, dari grafik di atas bisa dilihat **cukup banyak titik data yang tersebar jauh di luar garis tren**. Hal ini menunjukkan bahwa ukuran apartemen bukan satu-satunya faktor yang menentukan harga apartemen. Faktor lain seperti lokasi, fasilitas serta tipe hallway apartemen juga dapat memengaruhi harga."
   ]
  },
  {
   "cell_type": "markdown",
   "metadata": {},
   "source": [
    "**Types of property related to price**"
   ]
  },
  {
   "cell_type": "code",
   "execution_count": 203,
   "metadata": {},
   "outputs": [
    {
     "name": "stdout",
     "output_type": "stream",
     "text": [
      "Jumlah properti berdasarkan tipe kamar:\n",
      "terraced    2528\n",
      "mixed       1131\n",
      "corridor     464\n",
      "Name: HallwayType, dtype: int64\n"
     ]
    }
   ],
   "source": [
    "print(f\"Jumlah properti berdasarkan tipe kamar:\\n{df['HallwayType'].value_counts()}\")"
   ]
  },
  {
   "cell_type": "code",
   "execution_count": 204,
   "metadata": {},
   "outputs": [
    {
     "data": {
      "image/png": "[encoded data removed]",
      "text/plain": [
       "<Figure size 432x288 with 1 Axes>"
      ]
     },
     "metadata": {
      "needs_background": "light"
     },
     "output_type": "display_data"
    }
   ],
   "source": [
    "sns.boxplot(x='HallwayType', y='SalePrice', data=df)\n",
    "plt.title('\\nPerbandingan Harga Berdasarkan Tipe Hallway\\n', weight='bold')\n",
    "plt.xlabel('Tipe Hallway')\n",
    "plt.ylabel('Harga')\n",
    "for spine in ['top', 'right']:\n",
    "    plt.gca().spines[spine].set_visible(False)\n",
    "\n",
    "plt.show()"
   ]
  },
  {
   "cell_type": "markdown",
   "metadata": {},
   "source": [
    "Berdasarkan grafik di atas bisa dilihat apartemen tipe hallway terraced disewakan dengan harga yang sangat bervariasi dan cenderung disewakan dengan harga yang lebih mahal. Sedangkan, apartemen tipe hallway corridor cenderung disewakan dengan harga yang lebih murah."
   ]
  },
  {
   "cell_type": "code",
   "execution_count": 205,
   "metadata": {},
   "outputs": [
    {
     "data": {
      "text/html": [
       "<div>\n",
       "<style scoped>\n",
       "    .dataframe tbody tr th:only-of-type {\n",
       "        vertical-align: middle;\n",
       "    }\n",
       "\n",
       "    .dataframe tbody tr th {\n",
       "        vertical-align: top;\n",
       "    }\n",
       "\n",
       "    .dataframe thead th {\n",
       "        text-align: right;\n",
       "    }\n",
       "</style>\n",
       "<table border=\"1\" class=\"dataframe\">\n",
       "  <thead>\n",
       "    <tr style=\"text-align: right;\">\n",
       "      <th>HallwayType</th>\n",
       "      <th>corridor</th>\n",
       "      <th>mixed</th>\n",
       "      <th>terraced</th>\n",
       "    </tr>\n",
       "    <tr>\n",
       "      <th>YearBuilt</th>\n",
       "      <th></th>\n",
       "      <th></th>\n",
       "      <th></th>\n",
       "    </tr>\n",
       "  </thead>\n",
       "  <tbody>\n",
       "    <tr>\n",
       "      <th>1978</th>\n",
       "      <td>163716.000000</td>\n",
       "      <td>nan</td>\n",
       "      <td>nan</td>\n",
       "    </tr>\n",
       "    <tr>\n",
       "      <th>1980</th>\n",
       "      <td>nan</td>\n",
       "      <td>nan</td>\n",
       "      <td>69468.500000</td>\n",
       "    </tr>\n",
       "    <tr>\n",
       "      <th>1985</th>\n",
       "      <td>70796.000000</td>\n",
       "      <td>nan</td>\n",
       "      <td>nan</td>\n",
       "    </tr>\n",
       "    <tr>\n",
       "      <th>1986</th>\n",
       "      <td>87610.000000</td>\n",
       "      <td>nan</td>\n",
       "      <td>184955.000000</td>\n",
       "    </tr>\n",
       "    <tr>\n",
       "      <th>1992</th>\n",
       "      <td>65486.000000</td>\n",
       "      <td>130973.000000</td>\n",
       "      <td>nan</td>\n",
       "    </tr>\n",
       "    <tr>\n",
       "      <th>1993</th>\n",
       "      <td>nan</td>\n",
       "      <td>155752.000000</td>\n",
       "      <td>nan</td>\n",
       "    </tr>\n",
       "    <tr>\n",
       "      <th>1997</th>\n",
       "      <td>nan</td>\n",
       "      <td>85398.000000</td>\n",
       "      <td>nan</td>\n",
       "    </tr>\n",
       "    <tr>\n",
       "      <th>2003</th>\n",
       "      <td>nan</td>\n",
       "      <td>123893.000000</td>\n",
       "      <td>nan</td>\n",
       "    </tr>\n",
       "    <tr>\n",
       "      <th>2005</th>\n",
       "      <td>nan</td>\n",
       "      <td>167035.000000</td>\n",
       "      <td>nan</td>\n",
       "    </tr>\n",
       "    <tr>\n",
       "      <th>2006</th>\n",
       "      <td>nan</td>\n",
       "      <td>nan</td>\n",
       "      <td>243141.000000</td>\n",
       "    </tr>\n",
       "    <tr>\n",
       "      <th>2007</th>\n",
       "      <td>nan</td>\n",
       "      <td>nan</td>\n",
       "      <td>327433.000000</td>\n",
       "    </tr>\n",
       "    <tr>\n",
       "      <th>2008</th>\n",
       "      <td>nan</td>\n",
       "      <td>nan</td>\n",
       "      <td>236283.000000</td>\n",
       "    </tr>\n",
       "    <tr>\n",
       "      <th>2009</th>\n",
       "      <td>nan</td>\n",
       "      <td>nan</td>\n",
       "      <td>203646.000000</td>\n",
       "    </tr>\n",
       "    <tr>\n",
       "      <th>2013</th>\n",
       "      <td>nan</td>\n",
       "      <td>nan</td>\n",
       "      <td>150778.000000</td>\n",
       "    </tr>\n",
       "    <tr>\n",
       "      <th>2014</th>\n",
       "      <td>75221.000000</td>\n",
       "      <td>nan</td>\n",
       "      <td>335398.000000</td>\n",
       "    </tr>\n",
       "    <tr>\n",
       "      <th>2015</th>\n",
       "      <td>nan</td>\n",
       "      <td>nan</td>\n",
       "      <td>355752.000000</td>\n",
       "    </tr>\n",
       "  </tbody>\n",
       "</table>\n",
       "</div>"
      ],
      "text/plain": [
       "HallwayType      corridor         mixed      terraced\n",
       "YearBuilt                                            \n",
       "1978        163716.000000           nan           nan\n",
       "1980                  nan           nan  69468.500000\n",
       "1985         70796.000000           nan           nan\n",
       "1986         87610.000000           nan 184955.000000\n",
       "1992         65486.000000 130973.000000           nan\n",
       "1993                  nan 155752.000000           nan\n",
       "1997                  nan  85398.000000           nan\n",
       "2003                  nan 123893.000000           nan\n",
       "2005                  nan 167035.000000           nan\n",
       "2006                  nan           nan 243141.000000\n",
       "2007                  nan           nan 327433.000000\n",
       "2008                  nan           nan 236283.000000\n",
       "2009                  nan           nan 203646.000000\n",
       "2013                  nan           nan 150778.000000\n",
       "2014         75221.000000           nan 335398.000000\n",
       "2015                  nan           nan 355752.000000"
      ]
     },
     "metadata": {},
     "output_type": "display_data"
    },
    {
     "data": {
      "image/png": "[encoded data removed]",
      "text/plain": [
       "<Figure size 720x216 with 1 Axes>"
      ]
     },
     "metadata": {
      "needs_background": "light"
     },
     "output_type": "display_data"
    }
   ],
   "source": [
    "from IPython.display import display\n",
    "\n",
    "apart_type = df.pivot_table(index='YearBuilt', columns='HallwayType', values='SalePrice', aggfunc='median')\n",
    "display(apart_type)\n",
    "\n",
    "pivot_plot = apart_type.plot.bar(stacked=True, figsize=(10, 3))\n",
    "pivot_plot.set_xlabel('Tahun')\n",
    "pivot_plot.set_ylabel('Median Price (KRW)')\n",
    "pivot_plot.set_title('\\nMedian Harga per Tahun Apartemen Dibangun\\n', weight='bold');"
   ]
  },
  {
   "cell_type": "markdown",
   "metadata": {},
   "source": [
    "Tipe apartemen terraced pertama kali dibangun di tahun 1980 dan mulai populer di tahun 2006 sampai tahun 2015 adalah tipe apartemen dengan jumlah paling banyak di kota Daegu. Dan dari grafik di atas bisa disimpulkan bahwa Tipe hallway memiliki pengaruh yang cukup signifikan terhadap harga apartemen. Secara umum, harga apartemen cenderung meningkat dari tahun ke tahun, terutama setelah tahun 2000. Namun harga juga mengalami fluktuasi yang mungkin dipengaruhi oleh faktor lain seperti kondisi ekonomi, kebijakan pemerintah, dan perubahan preferensi pasar. "
   ]
  },
  {
   "cell_type": "markdown",
   "metadata": {},
   "source": [
    "**Types of property related to facilities**"
   ]
  },
  {
   "cell_type": "code",
   "execution_count": 206,
   "metadata": {},
   "outputs": [
    {
     "data": {
      "image/png": "[encoded data removed]",
      "text/plain": [
       "<Figure size 432x288 with 1 Axes>"
      ]
     },
     "metadata": {
      "needs_background": "light"
     },
     "output_type": "display_data"
    }
   ],
   "source": [
    "facilities_per_hallway = df.groupby('HallwayType')['N_FacilitiesInApt'].mean()\n",
    "\n",
    "# Membuat bar chart\n",
    "plt.bar(facilities_per_hallway.index, facilities_per_hallway.values)\n",
    "plt.xlabel('Tipe Hallway')\n",
    "plt.ylabel('Rata-rata Jumlah Fasilitas')\n",
    "plt.title('Rata-rata Jumlah Fasilitas per Tipe Hallway\\n', weight='bold')\n",
    "for spine in ['top', 'right']:\n",
    "    plt.gca().spines[spine].set_visible(False)\n",
    "\n",
    "plt.show()"
   ]
  },
  {
   "cell_type": "markdown",
   "metadata": {},
   "source": [
    "Apartemen tipe hallway terraced cenderung memiliki fasilitas yang lebih lengkap dibandingkan tipe hallway lainnya."
   ]
  },
  {
   "cell_type": "markdown",
   "metadata": {},
   "source": [
    "### **Data Preprocessing**"
   ]
  },
  {
   "cell_type": "markdown",
   "metadata": {},
   "source": [
    "Pada tahap ini, kita akan melakukan data cleaning yang hasilnya akan dipakai pada proses analisis selanjutnya. Beberapa hal yang perlu dilakukan adalah:\n",
    "- Drop fitur yang tidak memiliki relevansi terhadap tujuan penelitian.\n",
    "- Melakukan treatment terhadap outliers pada fitur yang akan digunakan."
   ]
  },
  {
   "cell_type": "markdown",
   "metadata": {},
   "source": [
    "**Drop Columns**"
   ]
  },
  {
   "cell_type": "markdown",
   "metadata": {},
   "source": [
    "Setelah ditinjau berdasarkan domain knowledge, ada fitur yang dirasa kurang jelas dan tidak relevan dengan analisis yang akan dilakukan. \n",
    "- Kolom **SubwayStation** akan dihapus karena kurang relevan untuk kepentingan analisis prediktif.\n",
    "- Kolom **N_FacilitiesNearBy(ETC)** akan dihapus karena fasilitas lain yang ada di kolom ini tidak jelas dan bukan termasuk fasilitas yang penting untuk menjadi alasan pemilihan lokasi apartemen."
   ]
  },
  {
   "cell_type": "code",
   "execution_count": 207,
   "metadata": {},
   "outputs": [],
   "source": [
    "df = df.drop(columns=['SubwayStation','N_FacilitiesNearBy(ETC)'])"
   ]
  },
  {
   "cell_type": "code",
   "execution_count": 208,
   "metadata": {},
   "outputs": [
    {
     "data": {
      "text/html": [
       "<div>\n",
       "<style scoped>\n",
       "    .dataframe tbody tr th:only-of-type {\n",
       "        vertical-align: middle;\n",
       "    }\n",
       "\n",
       "    .dataframe tbody tr th {\n",
       "        vertical-align: top;\n",
       "    }\n",
       "\n",
       "    .dataframe thead th {\n",
       "        text-align: right;\n",
       "    }\n",
       "</style>\n",
       "<table border=\"1\" class=\"dataframe\">\n",
       "  <thead>\n",
       "    <tr style=\"text-align: right;\">\n",
       "      <th></th>\n",
       "      <th>HallwayType</th>\n",
       "      <th>TimeToSubway</th>\n",
       "      <th>N_FacilitiesNearBy(PublicOffice)</th>\n",
       "      <th>N_SchoolNearBy(University)</th>\n",
       "      <th>N_Parkinglot(Basement)</th>\n",
       "      <th>YearBuilt</th>\n",
       "      <th>N_FacilitiesInApt</th>\n",
       "      <th>Size(sqf)</th>\n",
       "      <th>SalePrice</th>\n",
       "    </tr>\n",
       "  </thead>\n",
       "  <tbody>\n",
       "    <tr>\n",
       "      <th>0</th>\n",
       "      <td>terraced</td>\n",
       "      <td>0-5min</td>\n",
       "      <td>3</td>\n",
       "      <td>2</td>\n",
       "      <td>1270</td>\n",
       "      <td>2007</td>\n",
       "      <td>10</td>\n",
       "      <td>1387</td>\n",
       "      <td>346017</td>\n",
       "    </tr>\n",
       "    <tr>\n",
       "      <th>1</th>\n",
       "      <td>terraced</td>\n",
       "      <td>10min~15min</td>\n",
       "      <td>5</td>\n",
       "      <td>1</td>\n",
       "      <td>0</td>\n",
       "      <td>1986</td>\n",
       "      <td>4</td>\n",
       "      <td>914</td>\n",
       "      <td>150442</td>\n",
       "    </tr>\n",
       "    <tr>\n",
       "      <th>2</th>\n",
       "      <td>mixed</td>\n",
       "      <td>15min~20min</td>\n",
       "      <td>7</td>\n",
       "      <td>3</td>\n",
       "      <td>56</td>\n",
       "      <td>1997</td>\n",
       "      <td>5</td>\n",
       "      <td>558</td>\n",
       "      <td>61946</td>\n",
       "    </tr>\n",
       "    <tr>\n",
       "      <th>3</th>\n",
       "      <td>mixed</td>\n",
       "      <td>5min~10min</td>\n",
       "      <td>5</td>\n",
       "      <td>4</td>\n",
       "      <td>798</td>\n",
       "      <td>2005</td>\n",
       "      <td>7</td>\n",
       "      <td>914</td>\n",
       "      <td>165486</td>\n",
       "    </tr>\n",
       "    <tr>\n",
       "      <th>4</th>\n",
       "      <td>terraced</td>\n",
       "      <td>0-5min</td>\n",
       "      <td>1</td>\n",
       "      <td>2</td>\n",
       "      <td>536</td>\n",
       "      <td>2006</td>\n",
       "      <td>5</td>\n",
       "      <td>1743</td>\n",
       "      <td>311504</td>\n",
       "    </tr>\n",
       "  </tbody>\n",
       "</table>\n",
       "</div>"
      ],
      "text/plain": [
       "  HallwayType TimeToSubway  N_FacilitiesNearBy(PublicOffice)  \\\n",
       "0    terraced       0-5min                                 3   \n",
       "1    terraced  10min~15min                                 5   \n",
       "2       mixed  15min~20min                                 7   \n",
       "3       mixed   5min~10min                                 5   \n",
       "4    terraced       0-5min                                 1   \n",
       "\n",
       "   N_SchoolNearBy(University)  N_Parkinglot(Basement)  YearBuilt  \\\n",
       "0                           2                    1270       2007   \n",
       "1                           1                       0       1986   \n",
       "2                           3                      56       1997   \n",
       "3                           4                     798       2005   \n",
       "4                           2                     536       2006   \n",
       "\n",
       "   N_FacilitiesInApt  Size(sqf)  SalePrice  \n",
       "0                 10       1387     346017  \n",
       "1                  4        914     150442  \n",
       "2                  5        558      61946  \n",
       "3                  7        914     165486  \n",
       "4                  5       1743     311504  "
      ]
     },
     "execution_count": 208,
     "metadata": {},
     "output_type": "execute_result"
    }
   ],
   "source": [
    "df.head()"
   ]
  },
  {
   "cell_type": "markdown",
   "metadata": {},
   "source": [
    "**Data Correlation**"
   ]
  },
  {
   "cell_type": "code",
   "execution_count": 209,
   "metadata": {},
   "outputs": [
    {
     "data": {
      "image/png": "[encoded data removed]",
      "text/plain": [
       "<Figure size 720x504 with 2 Axes>"
      ]
     },
     "metadata": {
      "needs_background": "light"
     },
     "output_type": "display_data"
    }
   ],
   "source": [
    "# Filter kolom numerik saja dari df\n",
    "corr = df.select_dtypes(include='number').corr(method='pearson')\n",
    "\n",
    "# Membuat heatmap\n",
    "plt.figure(figsize=(10, 7))\n",
    "palette = sns.diverging_palette(20, 220, n=256)\n",
    "sns.heatmap(corr, annot=True, fmt='.2f', cmap=palette, square=True, linewidths=.5, annot_kws={'fontsize': 9})\n",
    "plt.title('\\nMatriks Korelasi\\n', size=15, weight='bold')\n",
    "plt.show()"
   ]
  },
  {
   "cell_type": "markdown",
   "metadata": {},
   "source": [
    "Berdasarkan hasil matriks korelasi bisa disimpulkan bahwa:\n",
    "- Adanya korelasi positif (0.74) antara **N_FacilitiesNearBy(PublicOffice)** dan **N_SchoolNearBy(University)** menunjukkan bahwa daerah yang memiliki banyak kantor publik cenderung juga memiliki banyak universitas.\n",
    "- Adanya korelasi negatif (-0.44) dan (-0.45) antara **YearBuilt** dan **SalePrice** dengan **N_FacilitiesNearBy(PublicOffice)** menunjukkan bahwa apartemen yang lebih baru dibangun dan lebih mahal, kecil kemungkinannya untuk memiliki kantor publik di sekitarnya.\n"
   ]
  },
  {
   "cell_type": "markdown",
   "metadata": {},
   "source": [
    "**Outliers Detection**"
   ]
  },
  {
   "cell_type": "code",
   "execution_count": 210,
   "metadata": {},
   "outputs": [
    {
     "data": {
      "image/png": "[encoded data removed]",
      "text/plain": [
       "<Figure size 432x288 with 1 Axes>"
      ]
     },
     "metadata": {
      "needs_background": "light"
     },
     "output_type": "display_data"
    }
   ],
   "source": [
    "df.boxplot(rot=90);"
   ]
  },
  {
   "cell_type": "markdown",
   "metadata": {},
   "source": [
    "Terdapat outliers di kolom **Size(sqf)** dan **SalePrice** . Kita akan cek dan tangani outliers tersebut"
   ]
  },
  {
   "cell_type": "code",
   "execution_count": 211,
   "metadata": {},
   "outputs": [],
   "source": [
    "def find_outliers(data):\n",
    "    q1 = data.quantile(0.25)\n",
    "    q3 = data.quantile(0.75)\n",
    "    iqr = q3 - q1\n",
    "    limit = iqr*1.5\n",
    "    print(f'IQR: {iqr}')\n",
    "\n",
    "    lower_bound = q1 - limit\n",
    "    upper_bound = q3 + limit\n",
    "    print(f'limit_bawah: {lower_bound}')\n",
    "    print(f'limit_atas: {upper_bound}')  "
   ]
  },
  {
   "cell_type": "code",
   "execution_count": 212,
   "metadata": {},
   "outputs": [
    {
     "name": "stdout",
     "output_type": "stream",
     "text": [
      "IQR: 505.0\n",
      "limit_bawah: -113.5\n",
      "limit_atas: 1906.5\n"
     ]
    }
   ],
   "source": [
    "find_outliers(df['Size(sqf)'])"
   ]
  },
  {
   "cell_type": "code",
   "execution_count": 213,
   "metadata": {},
   "outputs": [
    {
     "name": "stdout",
     "output_type": "stream",
     "text": [
      "IQR: 146398.0\n",
      "limit_bawah: -74845.0\n",
      "limit_atas: 510747.0\n"
     ]
    }
   ],
   "source": [
    "find_outliers(df['SalePrice'])"
   ]
  },
  {
   "cell_type": "code",
   "execution_count": 214,
   "metadata": {},
   "outputs": [],
   "source": [
    "df = df[(df['Size(sqf)'] >= -113.5) & (df['Size(sqf)'] <= 1906.5)]"
   ]
  },
  {
   "cell_type": "code",
   "execution_count": 215,
   "metadata": {},
   "outputs": [],
   "source": [
    "df = df[(df['SalePrice'] >= -74845.0) & (df['SalePrice'] <= 510747.0)]"
   ]
  },
  {
   "cell_type": "code",
   "execution_count": 216,
   "metadata": {},
   "outputs": [
    {
     "data": {
      "image/png": "[encoded data removed]",
      "text/plain": [
       "<Figure size 432x288 with 1 Axes>"
      ]
     },
     "metadata": {
      "needs_background": "light"
     },
     "output_type": "display_data"
    }
   ],
   "source": [
    "df.boxplot(rot=90)\n",
    "plt.show()"
   ]
  },
  {
   "cell_type": "code",
   "execution_count": 217,
   "metadata": {},
   "outputs": [
    {
     "data": {
      "text/plain": [
       "count   4015.000000\n",
       "mean     925.216936\n",
       "std      341.828592\n",
       "min      135.000000\n",
       "25%      644.000000\n",
       "50%      910.000000\n",
       "75%     1131.000000\n",
       "max     1796.000000\n",
       "Name: Size(sqf), dtype: float64"
      ]
     },
     "execution_count": 217,
     "metadata": {},
     "output_type": "execute_result"
    }
   ],
   "source": [
    "df['Size(sqf)'].describe()"
   ]
  },
  {
   "cell_type": "code",
   "execution_count": 218,
   "metadata": {},
   "outputs": [
    {
     "data": {
      "text/plain": [
       "count     4015.000000\n",
       "mean    217551.669988\n",
       "std     103126.367493\n",
       "min      32743.000000\n",
       "25%     143362.000000\n",
       "50%     207079.000000\n",
       "75%     285840.000000\n",
       "max     508849.000000\n",
       "Name: SalePrice, dtype: float64"
      ]
     },
     "execution_count": 218,
     "metadata": {},
     "output_type": "execute_result"
    }
   ],
   "source": [
    "df['SalePrice'].describe()"
   ]
  },
  {
   "cell_type": "markdown",
   "metadata": {},
   "source": [
    "**Clean Dataset**"
   ]
  },
  {
   "cell_type": "code",
   "execution_count": 219,
   "metadata": {},
   "outputs": [
    {
     "data": {
      "text/html": [
       "<div>\n",
       "<style scoped>\n",
       "    .dataframe tbody tr th:only-of-type {\n",
       "        vertical-align: middle;\n",
       "    }\n",
       "\n",
       "    .dataframe tbody tr th {\n",
       "        vertical-align: top;\n",
       "    }\n",
       "\n",
       "    .dataframe thead th {\n",
       "        text-align: right;\n",
       "    }\n",
       "</style>\n",
       "<table border=\"1\" class=\"dataframe\">\n",
       "  <thead>\n",
       "    <tr style=\"text-align: right;\">\n",
       "      <th></th>\n",
       "      <th>HallwayType</th>\n",
       "      <th>TimeToSubway</th>\n",
       "      <th>N_FacilitiesNearBy(PublicOffice)</th>\n",
       "      <th>N_SchoolNearBy(University)</th>\n",
       "      <th>N_Parkinglot(Basement)</th>\n",
       "      <th>YearBuilt</th>\n",
       "      <th>N_FacilitiesInApt</th>\n",
       "      <th>Size(sqf)</th>\n",
       "      <th>SalePrice</th>\n",
       "    </tr>\n",
       "  </thead>\n",
       "  <tbody>\n",
       "    <tr>\n",
       "      <th>0</th>\n",
       "      <td>terraced</td>\n",
       "      <td>0-5min</td>\n",
       "      <td>3</td>\n",
       "      <td>2</td>\n",
       "      <td>1270</td>\n",
       "      <td>2007</td>\n",
       "      <td>10</td>\n",
       "      <td>1387</td>\n",
       "      <td>346017</td>\n",
       "    </tr>\n",
       "    <tr>\n",
       "      <th>1</th>\n",
       "      <td>terraced</td>\n",
       "      <td>10min~15min</td>\n",
       "      <td>5</td>\n",
       "      <td>1</td>\n",
       "      <td>0</td>\n",
       "      <td>1986</td>\n",
       "      <td>4</td>\n",
       "      <td>914</td>\n",
       "      <td>150442</td>\n",
       "    </tr>\n",
       "    <tr>\n",
       "      <th>2</th>\n",
       "      <td>mixed</td>\n",
       "      <td>15min~20min</td>\n",
       "      <td>7</td>\n",
       "      <td>3</td>\n",
       "      <td>56</td>\n",
       "      <td>1997</td>\n",
       "      <td>5</td>\n",
       "      <td>558</td>\n",
       "      <td>61946</td>\n",
       "    </tr>\n",
       "    <tr>\n",
       "      <th>3</th>\n",
       "      <td>mixed</td>\n",
       "      <td>5min~10min</td>\n",
       "      <td>5</td>\n",
       "      <td>4</td>\n",
       "      <td>798</td>\n",
       "      <td>2005</td>\n",
       "      <td>7</td>\n",
       "      <td>914</td>\n",
       "      <td>165486</td>\n",
       "    </tr>\n",
       "    <tr>\n",
       "      <th>4</th>\n",
       "      <td>terraced</td>\n",
       "      <td>0-5min</td>\n",
       "      <td>1</td>\n",
       "      <td>2</td>\n",
       "      <td>536</td>\n",
       "      <td>2006</td>\n",
       "      <td>5</td>\n",
       "      <td>1743</td>\n",
       "      <td>311504</td>\n",
       "    </tr>\n",
       "  </tbody>\n",
       "</table>\n",
       "</div>"
      ],
      "text/plain": [
       "  HallwayType TimeToSubway  N_FacilitiesNearBy(PublicOffice)  \\\n",
       "0    terraced       0-5min                                 3   \n",
       "1    terraced  10min~15min                                 5   \n",
       "2       mixed  15min~20min                                 7   \n",
       "3       mixed   5min~10min                                 5   \n",
       "4    terraced       0-5min                                 1   \n",
       "\n",
       "   N_SchoolNearBy(University)  N_Parkinglot(Basement)  YearBuilt  \\\n",
       "0                           2                    1270       2007   \n",
       "1                           1                       0       1986   \n",
       "2                           3                      56       1997   \n",
       "3                           4                     798       2005   \n",
       "4                           2                     536       2006   \n",
       "\n",
       "   N_FacilitiesInApt  Size(sqf)  SalePrice  \n",
       "0                 10       1387     346017  \n",
       "1                  4        914     150442  \n",
       "2                  5        558      61946  \n",
       "3                  7        914     165486  \n",
       "4                  5       1743     311504  "
      ]
     },
     "execution_count": 219,
     "metadata": {},
     "output_type": "execute_result"
    }
   ],
   "source": [
    "df.head()"
   ]
  },
  {
   "cell_type": "code",
   "execution_count": 220,
   "metadata": {},
   "outputs": [
    {
     "name": "stdout",
     "output_type": "stream",
     "text": [
      "<class 'pandas.core.frame.DataFrame'>\n",
      "Int64Index: 4015 entries, 0 to 4122\n",
      "Data columns (total 9 columns):\n",
      " #   Column                            Non-Null Count  Dtype \n",
      "---  ------                            --------------  ----- \n",
      " 0   HallwayType                       4015 non-null   object\n",
      " 1   TimeToSubway                      4015 non-null   object\n",
      " 2   N_FacilitiesNearBy(PublicOffice)  4015 non-null   int64 \n",
      " 3   N_SchoolNearBy(University)        4015 non-null   int64 \n",
      " 4   N_Parkinglot(Basement)            4015 non-null   int64 \n",
      " 5   YearBuilt                         4015 non-null   int64 \n",
      " 6   N_FacilitiesInApt                 4015 non-null   int64 \n",
      " 7   Size(sqf)                         4015 non-null   int64 \n",
      " 8   SalePrice                         4015 non-null   int64 \n",
      "dtypes: int64(7), object(2)\n",
      "memory usage: 313.7+ KB\n"
     ]
    }
   ],
   "source": [
    "df.info()"
   ]
  },
  {
   "cell_type": "markdown",
   "metadata": {},
   "source": [
    "**Modeling**"
   ]
  },
  {
   "cell_type": "markdown",
   "metadata": {},
   "source": [
    "Agar dapat menggunakan semua fitur, data kategorikal harus diubah menjadi data numerik. Pada analisis ini kita menggunakan One Hot Encoding untuk mengubah kolom HallwayType dan TimeToSubway."
   ]
  },
  {
   "cell_type": "code",
   "execution_count": 221,
   "metadata": {},
   "outputs": [
    {
     "data": {
      "text/plain": [
       "array(['terraced', 'mixed', 'corridor'], dtype=object)"
      ]
     },
     "execution_count": 221,
     "metadata": {},
     "output_type": "execute_result"
    }
   ],
   "source": [
    "df['HallwayType'].unique()"
   ]
  },
  {
   "cell_type": "code",
   "execution_count": 222,
   "metadata": {},
   "outputs": [
    {
     "data": {
      "text/plain": [
       "array(['0-5min', '10min~15min', '15min~20min', '5min~10min',\n",
       "       'no_bus_stop_nearby'], dtype=object)"
      ]
     },
     "execution_count": 222,
     "metadata": {},
     "output_type": "execute_result"
    }
   ],
   "source": [
    "df['TimeToSubway'].unique()"
   ]
  },
  {
   "cell_type": "code",
   "execution_count": 223,
   "metadata": {},
   "outputs": [],
   "source": [
    "df = pd.get_dummies(df, columns=['HallwayType'], dtype='int32')"
   ]
  },
  {
   "cell_type": "code",
   "execution_count": 224,
   "metadata": {},
   "outputs": [],
   "source": [
    "df = pd.get_dummies(df, columns=['TimeToSubway'], dtype='int32')"
   ]
  },
  {
   "cell_type": "markdown",
   "metadata": {},
   "source": [
    "**Data Splitting**"
   ]
  },
  {
   "cell_type": "code",
   "execution_count": 225,
   "metadata": {},
   "outputs": [],
   "source": [
    "# Memisahkan data independen variabel dengan target\n",
    "X = df.drop(['SalePrice'], axis=1)\n",
    "y = df['SalePrice']"
   ]
  },
  {
   "cell_type": "markdown",
   "metadata": {},
   "source": [
    "**Train and Test Splitting**"
   ]
  },
  {
   "cell_type": "code",
   "execution_count": 226,
   "metadata": {},
   "outputs": [],
   "source": [
    "X_train, X_test, y_train, y_test = train_test_split(X, y, test_size=.2, random_state = 999)"
   ]
  },
  {
   "cell_type": "markdown",
   "metadata": {},
   "source": [
    "**Choose a Benchmark Model**"
   ]
  },
  {
   "cell_type": "markdown",
   "metadata": {},
   "source": [
    "Pada analisis ini kita akan membandingkan 3 model yaitu :\n",
    "- Linear regression\n",
    "- Decision Tree\n",
    "- Random Forest"
   ]
  },
  {
   "cell_type": "markdown",
   "metadata": {},
   "source": [
    "#### Linear Regression"
   ]
  },
  {
   "cell_type": "code",
   "execution_count": 227,
   "metadata": {},
   "outputs": [],
   "source": [
    "lr_model = linear_model.LinearRegression() "
   ]
  },
  {
   "cell_type": "code",
   "execution_count": 228,
   "metadata": {},
   "outputs": [
    {
     "data": {
      "text/plain": [
       "LinearRegression()"
      ]
     },
     "execution_count": 228,
     "metadata": {},
     "output_type": "execute_result"
    }
   ],
   "source": [
    "lr_model.fit(X_train,y_train)"
   ]
  },
  {
   "cell_type": "code",
   "execution_count": 229,
   "metadata": {},
   "outputs": [],
   "source": [
    "# Prediksi dengan data train\n",
    "y_pred_train_lr = lr_model.predict(X_train)\n",
    "\n",
    "# Prediksi dengan data test\n",
    "y_pred_test_lr = lr_model.predict(X_test)"
   ]
  },
  {
   "cell_type": "code",
   "execution_count": null,
   "metadata": {},
   "outputs": [],
   "source": [
    "# MAPE\n",
    "def mean_absolute_percentage_error(y_true, y_pred):\n",
    "    y_true, y_pred = np.array(y_true), np.array(y_pred)\n",
    "    return np.mean(np.abs((y_true - y_pred) / y_true)) * 100"
   ]
  },
  {
   "cell_type": "code",
   "execution_count": 230,
   "metadata": {},
   "outputs": [],
   "source": [
    "# Evaluasi prediksi dengan data train\n",
    "r2_train_lr = r2_score(y_train, y_pred_train_lr)\n",
    "mae_train_lr = mean_absolute_error(y_train, y_pred_train_lr)\n",
    "mse_train_lr = mean_squared_error(y_train, y_pred_train_lr)\n",
    "mape_train_lr = mean_absolute_percentage_error(y_train, y_pred_train_lr)\n",
    "rmse_train_lr = np.sqrt(mse_train_lr)\n",
    "\n",
    "# Evaluasi prediksi dengan data test\n",
    "r2_test_lr = r2_score(y_test, y_pred_test_lr)\n",
    "mae_test_lr = mean_absolute_error(y_test, y_pred_test_lr)\n",
    "mse_test_lr = mean_squared_error(y_test, y_pred_test_lr)\n",
    "mape_test_lr = mean_absolute_percentage_error(y_test, y_pred_test_lr)\n",
    "rmse_test_lr = np.sqrt(mse_test_lr)"
   ]
  },
  {
   "cell_type": "code",
   "execution_count": 231,
   "metadata": {},
   "outputs": [
    {
     "data": {
      "text/html": [
       "<div>\n",
       "<style scoped>\n",
       "    .dataframe tbody tr th:only-of-type {\n",
       "        vertical-align: middle;\n",
       "    }\n",
       "\n",
       "    .dataframe tbody tr th {\n",
       "        vertical-align: top;\n",
       "    }\n",
       "\n",
       "    .dataframe thead th {\n",
       "        text-align: right;\n",
       "    }\n",
       "</style>\n",
       "<table border=\"1\" class=\"dataframe\">\n",
       "  <thead>\n",
       "    <tr style=\"text-align: right;\">\n",
       "      <th></th>\n",
       "      <th>Train</th>\n",
       "      <th>Test</th>\n",
       "    </tr>\n",
       "  </thead>\n",
       "  <tbody>\n",
       "    <tr>\n",
       "      <th>R squared</th>\n",
       "      <td>0.759249</td>\n",
       "      <td>0.762222</td>\n",
       "    </tr>\n",
       "    <tr>\n",
       "      <th>MAE</th>\n",
       "      <td>41674.783279</td>\n",
       "      <td>41721.779546</td>\n",
       "    </tr>\n",
       "    <tr>\n",
       "      <th>MSE</th>\n",
       "      <td>2534490860.363183</td>\n",
       "      <td>2620915339.773013</td>\n",
       "    </tr>\n",
       "    <tr>\n",
       "      <th>RMSE</th>\n",
       "      <td>50343.727120</td>\n",
       "      <td>51194.876109</td>\n",
       "    </tr>\n",
       "    <tr>\n",
       "      <th>MAPE</th>\n",
       "      <td>22.946146</td>\n",
       "      <td>22.561185</td>\n",
       "    </tr>\n",
       "  </tbody>\n",
       "</table>\n",
       "</div>"
      ],
      "text/plain": [
       "                      Train              Test\n",
       "R squared          0.759249          0.762222\n",
       "MAE            41674.783279      41721.779546\n",
       "MSE       2534490860.363183 2620915339.773013\n",
       "RMSE           50343.727120      51194.876109\n",
       "MAPE              22.946146         22.561185"
      ]
     },
     "execution_count": 231,
     "metadata": {},
     "output_type": "execute_result"
    }
   ],
   "source": [
    "# Membuat DataFrame untuk menampung hasil evaluasi\n",
    "data_lr = { \n",
    "    'Train': [r2_train_lr, mae_train_lr, mse_train_lr, rmse_train_lr, mape_train_lr],\n",
    "    'Test': [r2_test_lr, mae_test_lr, mse_test_lr, rmse_test_lr, mape_test_lr]\n",
    "}\n",
    "\n",
    "eval_metrics_lr = pd.DataFrame(data_lr, index=['R squared', 'MAE', 'MSE', 'RMSE', 'MAPE'])\n",
    "pd.set_option('display.float_format', '{:.6f}'.format)\n",
    "eval_metrics_lr"
   ]
  },
  {
   "cell_type": "markdown",
   "metadata": {},
   "source": [
    "- R-squared, MAE, MSE, RMSE, dan MAPE menunjukkan bahwa model memiliki performa yang cukup konsisten antara data train dan data test.\n",
    "- Tidak ada perbedaan signifikan antara performa model pada data train dan data test, yang mengindikasikan bahwa model tidak mengalami overfitting.\n",
    "- Berdasarkan nilai R-square, model Linear Regression mampu menjelaskan sekitar 75-76% variabilitas dari target (cukup baik).\n",
    "- Namun, nilai kesalahan absolut dan kuadrat (MAE, MSE, RMSE) masih cukup tinggi, mengindikasikan bahwa meskipun model mampu menangkap pola secara umum, ada beberapa prediksi yang meleset cukup jauh.\n",
    "- MAPE sebesar 22% menunjukkan bahwa prediksi model meleset sekitar 22% dari nilai sebenarnya, yang bisa dianggap besar untuk konteks prediksi harga sewa apartemen"
   ]
  },
  {
   "cell_type": "markdown",
   "metadata": {},
   "source": [
    "#### Decision Tree"
   ]
  },
  {
   "cell_type": "code",
   "execution_count": 232,
   "metadata": {},
   "outputs": [
    {
     "data": {
      "text/plain": [
       "DecisionTreeRegressor()"
      ]
     },
     "execution_count": 232,
     "metadata": {},
     "output_type": "execute_result"
    }
   ],
   "source": [
    "dt_model = DecisionTreeRegressor()\n",
    "dt_model.fit(X_train, y_train)"
   ]
  },
  {
   "cell_type": "code",
   "execution_count": 233,
   "metadata": {},
   "outputs": [],
   "source": [
    "# Prediksi dengan data train\n",
    "y_pred_train_dt = dt_model.predict(X_train)\n",
    "\n",
    "# Prediksi dengan data test\n",
    "y_pred_test_dt = dt_model.predict(X_test)"
   ]
  },
  {
   "cell_type": "code",
   "execution_count": 234,
   "metadata": {},
   "outputs": [],
   "source": [
    "# Evaluasi prediksi dengan data train\n",
    "r2_train_dt = r2_score(y_train, y_pred_train_dt)\n",
    "mae_train_dt = mean_absolute_error(y_train, y_pred_train_dt)\n",
    "mse_train_dt = mean_squared_error(y_train, y_pred_train_dt)\n",
    "mape_train_dt = mean_absolute_percentage_error(y_train, y_pred_train_dt)\n",
    "rmse_train_dt = np.sqrt(mse_train_dt)\n",
    "\n",
    "# Evaluasi prediksi dengan data test\n",
    "r2_test_dt = r2_score(y_test, y_pred_test_dt)\n",
    "mae_test_dt = mean_absolute_error(y_test, y_pred_test_dt)\n",
    "mse_test_dt = mean_squared_error(y_test, y_pred_test_dt)\n",
    "mape_test_dt = mean_absolute_percentage_error(y_test, y_pred_test_dt)\n",
    "rmse_test_dt = np.sqrt(mse_test_dt)"
   ]
  },
  {
   "cell_type": "code",
   "execution_count": 235,
   "metadata": {},
   "outputs": [
    {
     "data": {
      "text/html": [
       "<div>\n",
       "<style scoped>\n",
       "    .dataframe tbody tr th:only-of-type {\n",
       "        vertical-align: middle;\n",
       "    }\n",
       "\n",
       "    .dataframe tbody tr th {\n",
       "        vertical-align: top;\n",
       "    }\n",
       "\n",
       "    .dataframe thead th {\n",
       "        text-align: right;\n",
       "    }\n",
       "</style>\n",
       "<table border=\"1\" class=\"dataframe\">\n",
       "  <thead>\n",
       "    <tr style=\"text-align: right;\">\n",
       "      <th></th>\n",
       "      <th>Train</th>\n",
       "      <th>Test</th>\n",
       "    </tr>\n",
       "  </thead>\n",
       "  <tbody>\n",
       "    <tr>\n",
       "      <th>R squared</th>\n",
       "      <td>0.842536</td>\n",
       "      <td>0.838199</td>\n",
       "    </tr>\n",
       "    <tr>\n",
       "      <th>MAE</th>\n",
       "      <td>32054.993923</td>\n",
       "      <td>33609.741722</td>\n",
       "    </tr>\n",
       "    <tr>\n",
       "      <th>MSE</th>\n",
       "      <td>1657685575.873061</td>\n",
       "      <td>1783460066.655952</td>\n",
       "    </tr>\n",
       "    <tr>\n",
       "      <th>RMSE</th>\n",
       "      <td>40714.685015</td>\n",
       "      <td>42231.032034</td>\n",
       "    </tr>\n",
       "    <tr>\n",
       "      <th>MAPE</th>\n",
       "      <td>17.638446</td>\n",
       "      <td>18.253315</td>\n",
       "    </tr>\n",
       "  </tbody>\n",
       "</table>\n",
       "</div>"
      ],
      "text/plain": [
       "                      Train              Test\n",
       "R squared          0.842536          0.838199\n",
       "MAE            32054.993923      33609.741722\n",
       "MSE       1657685575.873061 1783460066.655952\n",
       "RMSE           40714.685015      42231.032034\n",
       "MAPE              17.638446         18.253315"
      ]
     },
     "execution_count": 235,
     "metadata": {},
     "output_type": "execute_result"
    }
   ],
   "source": [
    "data_dt = { \n",
    "    'Train': [r2_train_dt, mae_train_dt, mse_train_dt, rmse_train_dt, mape_train_dt],\n",
    "    'Test': [r2_test_dt, mae_test_dt, mse_test_dt, rmse_test_dt, mape_test_dt]\n",
    "}\n",
    "\n",
    "eval_metrics_dt = pd.DataFrame(data_dt, index=['R squared', 'MAE', 'MSE', 'RMSE', 'MAPE'])\n",
    "eval_metrics_dt"
   ]
  },
  {
   "cell_type": "markdown",
   "metadata": {},
   "source": [
    "- Dengan R-squared sebesar 84.25% pada data train dan 83.82% pada data test, model ini dapat menjelaskan sekitar 84% dari variasi dalam harga apartemen untuk data train dan 83.82% untuk data test. Ini menunjukkan bahwa model Decision Tree ini cukup baik dalam menangkap pola dalam data dibandingkan model Linear Regression sebelumnya.\n",
    "- Nilai MAE, RMSE, dan MAPE yang relatif kecil menunjukkan bahwa model dapat memberikan prediksi yang akurat dibandingkan model Linear Regression sebelumnya.\n",
    "- Tidak ada indikasi overfitting"
   ]
  },
  {
   "cell_type": "markdown",
   "metadata": {},
   "source": [
    "#### Random Forest"
   ]
  },
  {
   "cell_type": "code",
   "execution_count": 236,
   "metadata": {},
   "outputs": [],
   "source": [
    "from sklearn.ensemble import RandomForestRegressor\n",
    "rf_model = RandomForestRegressor()"
   ]
  },
  {
   "cell_type": "code",
   "execution_count": 237,
   "metadata": {},
   "outputs": [
    {
     "data": {
      "text/plain": [
       "RandomForestRegressor()"
      ]
     },
     "execution_count": 237,
     "metadata": {},
     "output_type": "execute_result"
    }
   ],
   "source": [
    "rf_model.fit(X_train,y_train)"
   ]
  },
  {
   "cell_type": "code",
   "execution_count": 238,
   "metadata": {},
   "outputs": [],
   "source": [
    "# Prediksi dengan data train\n",
    "y_pred_train_rf = dt_model.predict(X_train)\n",
    "\n",
    "# Prediksi dengan data test\n",
    "y_pred_test_rf = dt_model.predict(X_test)"
   ]
  },
  {
   "cell_type": "code",
   "execution_count": 239,
   "metadata": {},
   "outputs": [],
   "source": [
    "# Evaluasi prediksi dengan data train\n",
    "r2_train_rf = r2_score(y_train, y_pred_train_rf)\n",
    "mae_train_rf = mean_absolute_error(y_train, y_pred_train_rf)\n",
    "mse_train_rf = mean_squared_error(y_train, y_pred_train_rf)\n",
    "mape_train_rf = mean_absolute_percentage_error(y_train, y_pred_train_rf)\n",
    "rmse_train_rf = np.sqrt(mse_train_rf)\n",
    "\n",
    "# Evaluasi prediksi dengan data test\n",
    "r2_test_rf = r2_score(y_test, y_pred_test_rf)\n",
    "mae_test_rf = mean_absolute_error(y_test, y_pred_test_rf)\n",
    "mse_test_rf = mean_squared_error(y_test, y_pred_test_rf)\n",
    "mape_test_rf = mean_absolute_percentage_error(y_test, y_pred_test_rf)\n",
    "rmse_test_rf = np.sqrt(mse_test_rf)\n"
   ]
  },
  {
   "cell_type": "code",
   "execution_count": 240,
   "metadata": {},
   "outputs": [
    {
     "data": {
      "text/html": [
       "<div>\n",
       "<style scoped>\n",
       "    .dataframe tbody tr th:only-of-type {\n",
       "        vertical-align: middle;\n",
       "    }\n",
       "\n",
       "    .dataframe tbody tr th {\n",
       "        vertical-align: top;\n",
       "    }\n",
       "\n",
       "    .dataframe thead th {\n",
       "        text-align: right;\n",
       "    }\n",
       "</style>\n",
       "<table border=\"1\" class=\"dataframe\">\n",
       "  <thead>\n",
       "    <tr style=\"text-align: right;\">\n",
       "      <th></th>\n",
       "      <th>Train</th>\n",
       "      <th>Test</th>\n",
       "    </tr>\n",
       "  </thead>\n",
       "  <tbody>\n",
       "    <tr>\n",
       "      <th>R squared</th>\n",
       "      <td>0.842536</td>\n",
       "      <td>0.838199</td>\n",
       "    </tr>\n",
       "    <tr>\n",
       "      <th>MAE</th>\n",
       "      <td>32054.993923</td>\n",
       "      <td>33609.741722</td>\n",
       "    </tr>\n",
       "    <tr>\n",
       "      <th>MSE</th>\n",
       "      <td>1657685575.873061</td>\n",
       "      <td>1783460066.655952</td>\n",
       "    </tr>\n",
       "    <tr>\n",
       "      <th>RMSE</th>\n",
       "      <td>40714.685015</td>\n",
       "      <td>42231.032034</td>\n",
       "    </tr>\n",
       "    <tr>\n",
       "      <th>MAPE</th>\n",
       "      <td>17.638446</td>\n",
       "      <td>18.253315</td>\n",
       "    </tr>\n",
       "  </tbody>\n",
       "</table>\n",
       "</div>"
      ],
      "text/plain": [
       "                      Train              Test\n",
       "R squared          0.842536          0.838199\n",
       "MAE            32054.993923      33609.741722\n",
       "MSE       1657685575.873061 1783460066.655952\n",
       "RMSE           40714.685015      42231.032034\n",
       "MAPE              17.638446         18.253315"
      ]
     },
     "execution_count": 240,
     "metadata": {},
     "output_type": "execute_result"
    }
   ],
   "source": [
    "# Membuat DataFrame untuk menampung hasil evaluasi\n",
    "data_rf = { \n",
    "    'Train': [r2_train_rf, mae_train_rf, mse_train_rf, rmse_train_rf, mape_train_rf],\n",
    "    'Test': [r2_test_rf, mae_test_rf, mse_test_rf, rmse_test_rf, mape_test_rf]\n",
    "}\n",
    "\n",
    "eval_metrics_rf = pd.DataFrame(data_rf, index=['R squared', 'MAE', 'MSE', 'RMSE', 'MAPE'])\n",
    "eval_metrics_rf"
   ]
  },
  {
   "cell_type": "code",
   "execution_count": 257,
   "metadata": {},
   "outputs": [
    {
     "data": {
      "image/png": "[encoded data removed]",
      "text/plain": [
       "<Figure size 864x432 with 1 Axes>"
      ]
     },
     "metadata": {
      "needs_background": "light"
     },
     "output_type": "display_data"
    },
    {
     "data": {
      "image/png": "[encoded data removed]",
      "text/plain": [
       "<Figure size 864x432 with 1 Axes>"
      ]
     },
     "metadata": {
      "needs_background": "light"
     },
     "output_type": "display_data"
    },
    {
     "data": {
      "image/png": "[encoded data removed]",
      "text/plain": [
       "<Figure size 864x432 with 1 Axes>"
      ]
     },
     "metadata": {
      "needs_background": "light"
     },
     "output_type": "display_data"
    }
   ],
   "source": [
    "# Hasil evaluasi model\n",
    "models = ['Linear Regression', 'Decision Tree', 'Random Forest']\n",
    "r2_train = [r2_train_lr, r2_train_dt, r2_train_rf]  # R-squared train\n",
    "r2_test = [r2_test_lr, r2_test_dt, r2_test_rf]      # R-squared test\n",
    "mape_train = [mape_train_lr, mape_train_dt, mape_train_rf]  # MAPE train\n",
    "mape_test = [mape_test_lr, mape_test_dt, mape_test_rf]      # MAPE test\n",
    "rmse_train = [rmse_train_lr, rmse_train_dt, rmse_train_rf]  # RMSE train\n",
    "rmse_test = [rmse_test_lr, rmse_test_dt, rmse_test_rf]      # RMSE test\n",
    "\n",
    "train_colors = ['#6c8ebf'] * len(models)  # Warna untuk train\n",
    "test_colors = ['#f4a460'] * len(models)    # Warna untuk test\n",
    "\n",
    "# Plot R-squared\n",
    "plt.figure(figsize=(12, 6))\n",
    "\n",
    "bar_width = 0.35\n",
    "index = np.arange(len(models))\n",
    "\n",
    "bars_train = plt.bar(index, r2_train, bar_width, color=train_colors, label='Train')\n",
    "bars_test = plt.bar(index + bar_width, r2_test, bar_width, color=test_colors, label='Test')\n",
    "\n",
    "plt.xlabel('Model')\n",
    "plt.ylabel('R-squared')\n",
    "plt.title('Perbandingan R-squared antara Data Train dan Test')\n",
    "plt.xticks(index + bar_width / 2, models)\n",
    "plt.legend()\n",
    "\n",
    "# Tambahkan nilai di atas batang R-squared\n",
    "for bars in [bars_train, bars_test]:\n",
    "    for bar in bars:\n",
    "        yval = bar.get_height()\n",
    "        plt.text(bar.get_x() + bar.get_width() / 2, yval, f'{yval:.2f}', ha='center', va='bottom')\n",
    "\n",
    "plt.tight_layout()\n",
    "plt.show()\n",
    "\n",
    "# Plot MAPE\n",
    "plt.figure(figsize=(12, 6))\n",
    "\n",
    "bars_train = plt.bar(index, mape_train, bar_width, color=train_colors, label='Train')\n",
    "bars_test = plt.bar(index + bar_width, mape_test, bar_width, color=test_colors, label='Test')\n",
    "\n",
    "plt.xlabel('Model')\n",
    "plt.ylabel('MAPE (%)')\n",
    "plt.title('Perbandingan MAPE antara Data Train dan Test')\n",
    "plt.xticks(index + bar_width / 2, models)\n",
    "plt.legend()\n",
    "\n",
    "# Tambahkan nilai di atas batang MAPE\n",
    "for bars in [bars_train, bars_test]:\n",
    "    for bar in bars:\n",
    "        yval = bar.get_height()\n",
    "        plt.text(bar.get_x() + bar.get_width() / 2, yval, f'{yval:.2f}%', ha='center', va='bottom')\n",
    "\n",
    "plt.tight_layout()\n",
    "plt.show()\n",
    "\n",
    "# Plot RMSE\n",
    "plt.figure(figsize=(12, 6))\n",
    "\n",
    "bars_train = plt.bar(index, rmse_train, bar_width, color=train_colors, label='Train')\n",
    "bars_test = plt.bar(index + bar_width, rmse_test, bar_width, color=test_colors, label='Test')\n",
    "\n",
    "plt.xlabel('Model')\n",
    "plt.ylabel('RMSE')\n",
    "plt.title('Perbandingan RMSE antara Data Train dan Test')\n",
    "plt.xticks(index + bar_width / 2, models)\n",
    "plt.legend()\n",
    "\n",
    "# Tambahkan nilai di atas batang RMSE\n",
    "for bars in [bars_train, bars_test]:\n",
    "    for bar in bars:\n",
    "        yval = bar.get_height()\n",
    "        plt.text(bar.get_x() + bar.get_width() / 2, yval, f'{yval:.2f}', ha='center', va='bottom')\n",
    "\n",
    "plt.tight_layout()\n",
    "plt.show()\n"
   ]
  },
  {
   "cell_type": "markdown",
   "metadata": {},
   "source": [
    "Performa model Decision Tree dan Random Forest yang terlihat serupa dalam hal Evaluation Metrics R-squared, MAE, MSE, RMSE, dan MAPE. Meskipun Random Forest biasanya diharapkan memberikan performa yang lebih baik daripada Decision Tree karena karakteristik ensemble-nya, dalam situasi tertentu, seperti ketika data cukup sederhana atau tidak kompleks dalam case ini, kedua model bisa menunjukkan hasil yang serupa. Selanjutnya akan dilakukan hyperparameter tuning pada model Random Forest untuk meningkatkan performa model. Hyperparameter tuning akan dilakukan untuk mencari konfigurasi terbaik yang dapat meningkatkan akurasi dan stabilitas model. Proses ini melibatkan penyesuaian berbagai parameter kunci, seperti jumlah pohon, kedalaman, jumlah fitur yang akan digunakan, dll. Dengan langkah-langkah ini, diharapkan model Random Forest dapat memberikan hasil prediksi yang lebih akurat dan lebih robust, serta dapat menangkap pola yang lebih kompleks dalam data, sehingga lebih baik dalam generalisasi pada data baru."
   ]
  },
  {
   "cell_type": "markdown",
   "metadata": {},
   "source": [
    "##### Random Forest Tuning"
   ]
  },
  {
   "cell_type": "code",
   "execution_count": 241,
   "metadata": {},
   "outputs": [],
   "source": [
    "param_grid = {\n",
    "    'n_estimators': [100, 200, 300],  \n",
    "    'max_depth': [None, 10, 20, 30],  \n",
    "    'min_samples_split': [2, 5, 10],  \n",
    "    'min_samples_leaf': [1, 2, 4],      \n",
    "    'bootstrap': [True, False]         \n",
    "}"
   ]
  },
  {
   "cell_type": "code",
   "execution_count": 242,
   "metadata": {},
   "outputs": [],
   "source": [
    "grid_search = GridSearchCV(estimator=rf_model, param_grid=param_grid, \n",
    "                           cv=5, n_jobs=-1, verbose=2)"
   ]
  },
  {
   "cell_type": "code",
   "execution_count": 243,
   "metadata": {},
   "outputs": [
    {
     "name": "stdout",
     "output_type": "stream",
     "text": [
      "Fitting 5 folds for each of 216 candidates, totalling 1080 fits\n"
     ]
    },
    {
     "name": "stderr",
     "output_type": "stream",
     "text": [
      "[Parallel(n_jobs=-1)]: Using backend LokyBackend with 4 concurrent workers.\n",
      "[Parallel(n_jobs=-1)]: Done  33 tasks      | elapsed:   13.5s\n",
      "[Parallel(n_jobs=-1)]: Done 154 tasks      | elapsed:   48.1s\n",
      "[Parallel(n_jobs=-1)]: Done 357 tasks      | elapsed:  1.8min\n",
      "[Parallel(n_jobs=-1)]: Done 640 tasks      | elapsed:  3.2min\n",
      "[Parallel(n_jobs=-1)]: Done 1005 tasks      | elapsed:  4.9min\n",
      "[Parallel(n_jobs=-1)]: Done 1080 out of 1080 | elapsed:  5.3min finished\n"
     ]
    },
    {
     "data": {
      "text/plain": [
       "GridSearchCV(cv=5, estimator=RandomForestRegressor(), n_jobs=-1,\n",
       "             param_grid={'bootstrap': [True, False],\n",
       "                         'max_depth': [None, 10, 20, 30],\n",
       "                         'min_samples_leaf': [1, 2, 4],\n",
       "                         'min_samples_split': [2, 5, 10],\n",
       "                         'n_estimators': [100, 200, 300]},\n",
       "             verbose=2)"
      ]
     },
     "execution_count": 243,
     "metadata": {},
     "output_type": "execute_result"
    }
   ],
   "source": [
    "grid_search.fit(X_train, y_train)"
   ]
  },
  {
   "cell_type": "code",
   "execution_count": 245,
   "metadata": {},
   "outputs": [
    {
     "name": "stdout",
     "output_type": "stream",
     "text": [
      "Best parameters: {'bootstrap': True, 'max_depth': 10, 'min_samples_leaf': 1, 'min_samples_split': 5, 'n_estimators': 200}\n"
     ]
    }
   ],
   "source": [
    "print(f'Best parameters: {grid_search.best_params_}')"
   ]
  },
  {
   "cell_type": "markdown",
   "metadata": {},
   "source": [
    "Hasil best parameters dari proses tuning untuk model Random Forest menunjukkan konfigurasi optimal yang dapat meningkatkan performa model.\n",
    "- bootstrap: True berarti model akan menggunakan sampling dengan pengembalian untuk membangun setiap pohon, yang membantu meningkatkan keberagaman antar pohon dan mengurangi overfitting. \n",
    "- max_depth: 10 membatasi kedalaman maksimum setiap pohon, menjaga agar model tetap sederhana dan mencegah pembelajaran dari noise dalam data.\n",
    "- min_samples_leaf: 1 mengizinkan setiap daun memiliki setidaknya satu sampel, yang memastikan pohon dapat membelah hingga detail terkecil.\n",
    "- min_samples_split: 5 mensyaratkan bahwa setidaknya lima sampel diperlukan untuk membagi simpul, yang membantu menjaga struktur pohon agar tidak terlalu kompleks.\n",
    "- n_estimators: 200 menunjukkan bahwa model akan membangun 200 pohon dalam forest, yang meningkatkan akurasi dengan mengurangi varians model. Kombinasi parameter ini dirancang untuk memaksimalkan akurasi prediksi dan meningkatkan generalisasi model pada data baru.\n"
   ]
  },
  {
   "cell_type": "code",
   "execution_count": 246,
   "metadata": {},
   "outputs": [],
   "source": [
    "model_rf_tuning = grid_search.best_estimator_"
   ]
  },
  {
   "cell_type": "code",
   "execution_count": 247,
   "metadata": {},
   "outputs": [],
   "source": [
    "# Prediksi dengan data train\n",
    "y_pred_train_rf_tuning = model_rf_tuning.predict(X_train)\n",
    "\n",
    "# Prediksi dengan data test\n",
    "y_pred_test_rf_tuning = model_rf_tuning.predict(X_test)"
   ]
  },
  {
   "cell_type": "code",
   "execution_count": 248,
   "metadata": {},
   "outputs": [],
   "source": [
    "# Evaluasi prediksi dengan data train\n",
    "r2_train_rf_tuning = r2_score(y_train, y_pred_train_rf_tuning)\n",
    "mae_train_rf_tuning = mean_absolute_error(y_train, y_pred_train_rf_tuning)\n",
    "mse_train_rf_tuning = mean_squared_error(y_train, y_pred_train_rf_tuning)\n",
    "mape_train_rf_tuning = mean_absolute_percentage_error(y_train, y_pred_train_rf_tuning)\n",
    "rmse_train_rf_tuning = np.sqrt(mse_train_rf_tuning)\n",
    "\n",
    "# Evaluasi prediksi dengan data test\n",
    "r2_test_rf_tuning = r2_score(y_test, y_pred_test_rf_tuning)\n",
    "mae_test_rf_tuning = mean_absolute_error(y_test, y_pred_test_rf_tuning)\n",
    "mse_test_rf_tuning = mean_squared_error(y_test, y_pred_test_rf_tuning)\n",
    "mape_test_rf_tuning = mean_absolute_percentage_error(y_test, y_pred_test_rf_tuning)\n",
    "rmse_test_rf_tuning = np.sqrt(mse_test_rf_tuning)"
   ]
  },
  {
   "cell_type": "code",
   "execution_count": 249,
   "metadata": {},
   "outputs": [
    {
     "data": {
      "text/html": [
       "<div>\n",
       "<style scoped>\n",
       "    .dataframe tbody tr th:only-of-type {\n",
       "        vertical-align: middle;\n",
       "    }\n",
       "\n",
       "    .dataframe tbody tr th {\n",
       "        vertical-align: top;\n",
       "    }\n",
       "\n",
       "    .dataframe thead th {\n",
       "        text-align: right;\n",
       "    }\n",
       "</style>\n",
       "<table border=\"1\" class=\"dataframe\">\n",
       "  <thead>\n",
       "    <tr style=\"text-align: right;\">\n",
       "      <th></th>\n",
       "      <th>Train</th>\n",
       "      <th>Test</th>\n",
       "    </tr>\n",
       "  </thead>\n",
       "  <tbody>\n",
       "    <tr>\n",
       "      <th>R squared</th>\n",
       "      <td>0.842356</td>\n",
       "      <td>0.838234</td>\n",
       "    </tr>\n",
       "    <tr>\n",
       "      <th>MAE</th>\n",
       "      <td>32114.886244</td>\n",
       "      <td>33613.219203</td>\n",
       "    </tr>\n",
       "    <tr>\n",
       "      <th>MSE</th>\n",
       "      <td>1659583089.709209</td>\n",
       "      <td>1783079223.905406</td>\n",
       "    </tr>\n",
       "    <tr>\n",
       "      <th>RMSE</th>\n",
       "      <td>40737.980923</td>\n",
       "      <td>42226.522754</td>\n",
       "    </tr>\n",
       "    <tr>\n",
       "      <th>MAPE</th>\n",
       "      <td>17.702764</td>\n",
       "      <td>18.299884</td>\n",
       "    </tr>\n",
       "  </tbody>\n",
       "</table>\n",
       "</div>"
      ],
      "text/plain": [
       "                      Train              Test\n",
       "R squared          0.842356          0.838234\n",
       "MAE            32114.886244      33613.219203\n",
       "MSE       1659583089.709209 1783079223.905406\n",
       "RMSE           40737.980923      42226.522754\n",
       "MAPE              17.702764         18.299884"
      ]
     },
     "execution_count": 249,
     "metadata": {},
     "output_type": "execute_result"
    }
   ],
   "source": [
    "# Membuat DataFrame untuk menampung hasil evaluasi\n",
    "data_rf_tuning = { \n",
    "    'Train': [r2_train_rf_tuning, mae_train_rf_tuning, mse_train_rf_tuning, rmse_train_rf_tuning, mape_train_rf_tuning],\n",
    "    'Test': [r2_test_rf_tuning, mae_test_rf_tuning, mse_test_rf_tuning, rmse_test_rf_tuning, mape_test_rf_tuning]\n",
    "}\n",
    "\n",
    "eval_metrics_rf_tuning = pd.DataFrame(data_rf_tuning, index=['R squared', 'MAE', 'MSE', 'RMSE', 'MAPE'])\n",
    "eval_metrics_rf_tuning\n"
   ]
  },
  {
   "cell_type": "markdown",
   "metadata": {},
   "source": [
    "***Analisis Perbandingan Random Forest sebelum & setelah Tuning***\n",
    "\n",
    "- R-squared: Setelah tuning, nilai R-squared sedikit menurun untuk kedua dataset (train dan test). Hal ini menunjukkan bahwa meskipun model sebelumnya mampu menjelaskan variasi yang sedikit lebih besar, penurunan ini tidak signifikan.\n",
    "- MAE: Terdapat sedikit peningkatan pada nilai MAE setelah tuning, yang menunjukkan bahwa prediksi harga rata-rata sedikit lebih buruk dibandingkan sebelumnya. Ini menandakan bahwa tuning mungkin belum memberikan hasil yang diharapkan dalam hal akurasi.\n",
    "- MSE dan RMSE: Metrik ini menunjukkan peningkatan pada nilai kesalahan setelah tuning. MSE dan RMSE pada data pelatihan dan pengujian mengalami sedikit kenaikan, yang juga menunjukkan bahwa performa model menurun sedikit setelah tuning.\n",
    "- MAPE: MAPE juga menunjukkan peningkatan yang kecil setelah tuning, menunjukkan bahwa kesalahan relatif rata-rata dalam prediksi harga sedikit lebih tinggi dibandingkan sebelumnya."
   ]
  },
  {
   "cell_type": "markdown",
   "metadata": {},
   "source": [
    "Meskipun biasanya tuning diharapkan dapat meningkatkan performa model, dalam kasus ini hasil evaluasi menunjukkan bahwa model Random Forest yang tidak dituning sedikit lebih baik dalam hal akurasi prediksi. "
   ]
  },
  {
   "cell_type": "markdown",
   "metadata": {},
   "source": [
    "**Feature Importances**\n"
   ]
  },
  {
   "cell_type": "markdown",
   "metadata": {},
   "source": [
    "Untuk dapat mengetahui fitur apa saja yang sangat mempengaruhi target atau SalePrice, kita akan melakukan pengecekan melalui function feature_importances"
   ]
  },
  {
   "cell_type": "code",
   "execution_count": 250,
   "metadata": {},
   "outputs": [],
   "source": [
    "feature_importances = rf_model.feature_importances_\n",
    "features = X_train.columns\n",
    "importance_df = pd.DataFrame({\n",
    "    'Feature': features,\n",
    "    'Importance': feature_importances\n",
    "})\n",
    "importance_df = importance_df.sort_values(by='Importance', ascending=False)\n"
   ]
  },
  {
   "cell_type": "code",
   "execution_count": 251,
   "metadata": {},
   "outputs": [
    {
     "data": {
      "image/png": "[encoded data removed]",
      "text/plain": [
       "<Figure size 720x432 with 1 Axes>"
      ]
     },
     "metadata": {
      "needs_background": "light"
     },
     "output_type": "display_data"
    }
   ],
   "source": [
    "plt.figure(figsize=(10, 6))\n",
    "plt.barh(importance_df['Feature'], importance_df['Importance'])\n",
    "plt.xlabel('Feature Importance')\n",
    "plt.title('Feature Importance dari Model Random Forest')\n",
    "plt.gca().invert_yaxis()\n",
    "plt.show()"
   ]
  },
  {
   "cell_type": "markdown",
   "metadata": {},
   "source": [
    "### **Conclusion**"
   ]
  },
  {
   "cell_type": "markdown",
   "metadata": {},
   "source": [
    "Berdasarkan model dengan error terkecil yaitu model Random Forest, kolom fitur yang paling berpengaruh adalah kolom Size(sqf), HallwayType dengan tipe terraced, dan YearBuilt. Fitur-fitur ini memegang peranan penting dalam menentukan harga apartemen. Mengetahui kolom fitur yang paling berpengaruh dapat menjadi acuan dalam menentukan harga yang lebih kompetitif dari unit apartemen tersebut. Fitur tersebut juga dapat membantu pembeli/investor untuk memahami faktor-faktor utama yang mempengaruhi harga apartemen.\n",
    "\n",
    "Setelah melakukan evaluation matrics, kita sudah mengetahui nilai R-squared, MAE, MAPE, MSE, dan RMSE berdasarkan beberapa model dan melewati hyperparameter tuning.  Model ini memiliki akurasi yang cukup baik dengan nilai R-squared sekitar 0,848. Artinya model mampu menjelaskan sekitar 84,8% variabilitas harga apartemen. Error terkecil didapatkan 15% kesalahan prediksi. Artinya jika kita menggunakan model ini untuk memperkirakan harga unit apartemen di Daegu, maka perkiraan harganya rata-rata akan meleset kurang lebih sebesar 15% dari harga seharusnya, yang berarti masih ada ruang untuk perbaikan lebih lanjut. \n"
   ]
  },
  {
   "cell_type": "markdown",
   "metadata": {},
   "source": [
    "### **Recommendation**"
   ]
  },
  {
   "cell_type": "markdown",
   "metadata": {},
   "source": [
    "Kami ingin memberikan saran apa saja hal-hal yang dapat dilakukan untuk mengembangkan model agar lebih baik lagi :\n",
    "\n",
    "- Penambahan fitur yang lebih korelatif dengan target dapat ditambahkan untuk meningkatkan prediksi. \n",
    "- pengujian A/B Testing juga dapat dilakukan untuk menguji efektivitas model. \n",
    "- Model ini juga perlu untuk dimonitor secara berkala dengan melihat performa dari model ini agar tetap relevan dengan perubahan pasar seperti tren properti atau perubahan ekonomi yang mempengaruhi harga apartemen. \n",
    "- Berdasarkan analisis model, fitur yang paling berpengaruh seperti Luas apartemen **(Size(sqf))**, kamar tipe koridor **(HallwayType_terraced)**, dan tahun dibangun **(YearBuilt)** sangat mempengaruhi harga apartemen. Pemilik apartemen dapat menggunakan informasi ini untuk menetapkan harga yang lebih kompetitif sesuai dengan fitur ini. \n",
    "- Pemilik apartemen juga dapat mengetahui fasilitas dan tipe kamar yang paling berperan penting terhadap harga sehingga dapat ditingkatkan fasilitas tersebut untuk meningkatkan daya tarik dan nilai jual.\n",
    "- Strategi pemasaran juga dapat difokuskan pada fitur fitur yang paling mempengaruhi harga jual. \n",
    "\n"
   ]
  },
  {
   "cell_type": "markdown",
   "metadata": {},
   "source": [
    "#### Save Model"
   ]
  },
  {
   "cell_type": "code",
   "execution_count": 88,
   "metadata": {},
   "outputs": [],
   "source": [
    "#import pickle"
   ]
  },
  {
   "cell_type": "code",
   "execution_count": 86,
   "metadata": {},
   "outputs": [],
   "source": [
    "# Menyimpan model\n",
    "#with open('rf.pkl', 'wb') as file:\n",
    "   # pickle.dump(rf, file)"
   ]
  },
  {
   "cell_type": "code",
   "execution_count": 87,
   "metadata": {},
   "outputs": [],
   "source": [
    "# Load model\n",
    "#with open('rf.pkl', 'rb') as file:\n",
    "#    model_rf = pickle.load(file)"
   ]
  }
 ],
 "metadata": {
  "kernelspec": {
   "display_name": "Python 3",
   "language": "python",
   "name": "python3"
  },
  "language_info": {
   "codemirror_mode": {
    "name": "ipython",
    "version": 3
   },
   "file_extension": ".py",
   "mimetype": "text/x-python",
   "name": "python",
   "nbconvert_exporter": "python",
   "pygments_lexer": "ipython3",
   "version": "3.8.3"
  }
 },
 "nbformat": 4,
 "nbformat_minor": 2
}
